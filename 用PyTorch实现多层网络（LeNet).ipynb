{
  "nbformat": 4,
  "nbformat_minor": 0,
  "metadata": {
    "colab": {
      "name": "用PyTorch实现多层网络（LeNet).ipynb",
      "version": "0.3.2",
      "provenance": [],
      "include_colab_link": true
    },
    "language_info": {
      "codemirror_mode": {
        "name": "ipython",
        "version": 3
      },
      "file_extension": ".py",
      "mimetype": "text/x-python",
      "name": "python",
      "nbconvert_exporter": "python",
      "pygments_lexer": "ipython3",
      "version": "3.6.5"
    },
    "kernelspec": {
      "display_name": "pytorch",
      "language": "python",
      "name": "pytorch"
    },
    "accelerator": "GPU"
  },
  "cells": [
    {
      "cell_type": "markdown",
      "metadata": {
        "id": "view-in-github",
        "colab_type": "text"
      },
      "source": [
        "<a href=\"https://colab.research.google.com/github/caalinlu/PyTorch/blob/master/%E7%94%A8PyTorch%E5%AE%9E%E7%8E%B0%E5%A4%9A%E5%B1%82%E7%BD%91%E7%BB%9C%EF%BC%88LeNet).ipynb\" target=\"_parent\"><img src=\"https://colab.research.google.com/assets/colab-badge.svg\" alt=\"Open In Colab\"/></a>"
      ]
    },
    {
      "cell_type": "markdown",
      "metadata": {
        "id": "WHKI4G1G9dNO",
        "colab_type": "text"
      },
      "source": [
        "## 神经网络\n",
        "Autograd实现了反向传播功能，但是直接用来写深度学习的代码在很多情况下还是稍显复杂，torch.nn是专门为神经网络设计的模块化接口。\n",
        "nn构建于Autograded智商，可以用来定义和运行神经网络。nn.Module是nn中最重要的类，可把它看成是一个网络的封装，包含网络各层定义以及forward方法，调用forward(input)方法，可返回前向传播的结果。下面就以最早的卷积神经网络LeNet为例，来看看如何用nn.Module实现。\n",
        "这是一个基础的前向传播(feed-forward)网络: 接收输入，经过层层传递运算，得到输出。\n",
        "### 定义网络\n",
        "定义网络是，需要继承nn.Module,并实践它的forward方法，把网络中具有可学习参数的层放在构造函数`__init__`中。如果某一层(如ReLU)不具有可学习的参数，则既可以放在构造函数中，也可以不放，但建议不放在其中，而在forward中使用nn.functional代替。"
      ]
    },
    {
      "cell_type": "code",
      "metadata": {
        "id": "VOKstA6u9dNP",
        "colab_type": "code",
        "colab": {}
      },
      "source": [
        "import torch.nn as nn\n",
        "import torch.nn.functional as F\n",
        "\n",
        "class Net(nn.Module):\n",
        "    def __init__(self):\n",
        "        # nn.Module子类的函数必须在构造函数中执行父类的构造函数\n",
        "        # 下式等价于nn.Module.__init__(self)\n",
        "        super(Net, self).__init__()\n",
        "        \n",
        "        # 卷积层‘1’表示输入图片为单通道，‘6’表示输出通道数，‘5’表示卷积核为5\n",
        "        self.conv1 = nn.Conv2d(1, 6, 5)\n",
        "        # 卷积层\n",
        "        self.conv2 = nn.Conv2d(6, 16, 5)\n",
        "        # 仿射层/全连接层，y = Wx + b\n",
        "        self.fc1 = nn.Linear(16*5*5, 120)\n",
        "        self.fc2 = nn.Linear(120, 84)\n",
        "        self.fc3 = nn.Linear(84, 10)\n",
        "    \n",
        "    def forward(self, x):\n",
        "        # 卷积 -> 激活 -> 池化\n",
        "        x = F.max_pool2d(F.relu(self.conv1(x)), (2,2))\n",
        "        x = F.max_pool2d(F.relu(self.conv2(x)), 2)\n",
        "        # reshape, '-1'表示自适应\n",
        "        x = x.view(x.size()[0], -1)\n",
        "        x = F.relu(self.fc1(x))\n",
        "        x = F.relu(self.fc2(x))\n",
        "        x = self.fc3(x)\n",
        "        \n",
        "        return x\n",
        "    \n"
      ],
      "execution_count": 0,
      "outputs": []
    },
    {
      "cell_type": "code",
      "metadata": {
        "id": "YsWYbzgHAcsK",
        "colab_type": "code",
        "colab": {
          "base_uri": "https://localhost:8080/",
          "height": 143
        },
        "outputId": "7d1f8fd2-db5d-4e30-c0b2-f28755eced37"
      },
      "source": [
        "net = Net()\n",
        "print(net)"
      ],
      "execution_count": 32,
      "outputs": [
        {
          "output_type": "stream",
          "text": [
            "Net(\n",
            "  (conv1): Conv2d(1, 6, kernel_size=(5, 5), stride=(1, 1))\n",
            "  (conv2): Conv2d(6, 16, kernel_size=(5, 5), stride=(1, 1))\n",
            "  (fc1): Linear(in_features=400, out_features=120, bias=True)\n",
            "  (fc2): Linear(in_features=120, out_features=84, bias=True)\n",
            "  (fc3): Linear(in_features=84, out_features=10, bias=True)\n",
            ")\n"
          ],
          "name": "stdout"
        }
      ]
    },
    {
      "cell_type": "markdown",
      "metadata": {
        "id": "eYmtrNk7Cd5z",
        "colab_type": "text"
      },
      "source": [
        "只要在nn.Module的子类中定义了forward函数，backward函数就会自动被实现（利用autograd）。在forward函数中可以使用任何tensor支持的函数，还可以使用if、for循环、print、log等Python语法，写法和标准的Python写法一致。"
      ]
    },
    {
      "cell_type": "markdown",
      "metadata": {
        "id": "MWl5QFKcDMho",
        "colab_type": "text"
      },
      "source": [
        "网络可学习参数通过net.parameters()返回，net.named_parameters可同时返回可学习的参数及名称。"
      ]
    },
    {
      "cell_type": "code",
      "metadata": {
        "id": "x441tWy4CTl9",
        "colab_type": "code",
        "colab": {
          "base_uri": "https://localhost:8080/",
          "height": 35
        },
        "outputId": "e6ea3c39-6176-4703-a89f-24a9ce698852"
      },
      "source": [
        "para = list(net.parameters())\n",
        "print(len(para[9]))"
      ],
      "execution_count": 33,
      "outputs": [
        {
          "output_type": "stream",
          "text": [
            "10\n"
          ],
          "name": "stdout"
        }
      ]
    },
    {
      "cell_type": "code",
      "metadata": {
        "id": "Eu3yhdNaHY9v",
        "colab_type": "code",
        "colab": {
          "base_uri": "https://localhost:8080/",
          "height": 197
        },
        "outputId": "6f5b21f7-eea1-4484-f1b5-adc30a08d7cc"
      },
      "source": [
        "for name, parameter in net.named_parameters():\n",
        "  print(name, ':', parameter.size())"
      ],
      "execution_count": 34,
      "outputs": [
        {
          "output_type": "stream",
          "text": [
            "conv1.weight : torch.Size([6, 1, 5, 5])\n",
            "conv1.bias : torch.Size([6])\n",
            "conv2.weight : torch.Size([16, 6, 5, 5])\n",
            "conv2.bias : torch.Size([16])\n",
            "fc1.weight : torch.Size([120, 400])\n",
            "fc1.bias : torch.Size([120])\n",
            "fc2.weight : torch.Size([84, 120])\n",
            "fc2.bias : torch.Size([84])\n",
            "fc3.weight : torch.Size([10, 84])\n",
            "fc3.bias : torch.Size([10])\n"
          ],
          "name": "stdout"
        }
      ]
    },
    {
      "cell_type": "markdown",
      "metadata": {
        "id": "cb7t6T8DIxzG",
        "colab_type": "text"
      },
      "source": [
        "forward函数的输入和输出都是Tensor。"
      ]
    },
    {
      "cell_type": "markdown",
      "metadata": {
        "id": "MqJxKB26M5-M",
        "colab_type": "text"
      },
      "source": [
        "需要注意的是，torch.nn只支持mini_batches,不支持一次只输入一个样本，即一次必须是一个batch。但如果指向输入一个样本，则用input.unsqueeze(0)将batch_size设为1.例如nn.Conv2d的输入必须是4维的，形如nSamples * nChannel * Height * Width "
      ]
    },
    {
      "cell_type": "markdown",
      "metadata": {
        "id": "iPUzeITEOjQV",
        "colab_type": "text"
      },
      "source": [
        "## 损失函数"
      ]
    },
    {
      "cell_type": "markdown",
      "metadata": {
        "id": "oc6rdzMOPA-7",
        "colab_type": "text"
      },
      "source": [
        " nn实现了神经网络中大多数的损失函数，例如nn.MSELoss用来计算均方误差，nn.CrossEntropyLoss用来计算交叉熵损失。"
      ]
    },
    {
      "cell_type": "code",
      "metadata": {
        "id": "cw_muTHjOhDI",
        "colab_type": "code",
        "colab": {
          "base_uri": "https://localhost:8080/",
          "height": 35
        },
        "outputId": "c1e2f844-5e3c-4285-e93e-ba76f54ad69e"
      },
      "source": [
        "input = t.randn(1, 1, 32, 32)\n",
        "output = net(input)\n",
        "target = t.arange(0, 10).view(1, 10)\n",
        "target = target.float()\n",
        "criterion = nn.MSELoss()\n",
        "loss = criterion(output, target)\n",
        "print(loss)"
      ],
      "execution_count": 38,
      "outputs": [
        {
          "output_type": "stream",
          "text": [
            "tensor(28.6133, grad_fn=<MseLossBackward>)\n"
          ],
          "name": "stdout"
        }
      ]
    },
    {
      "cell_type": "code",
      "metadata": {
        "id": "EYeKGUHpRoha",
        "colab_type": "code",
        "colab": {
          "base_uri": "https://localhost:8080/",
          "height": 89
        },
        "outputId": "5d28fb8f-760d-4fe0-8f5f-10eed3372e8c"
      },
      "source": [
        "# 运行backward， 观察调用之前和调用之后的grad\n",
        "net.zero_grad() # 把net中所有可学习的参数清零\n",
        "print('反向传播之前 conv1.bias的梯度')\n",
        "print(net.conv1.bias.grad)\n",
        "loss.backward()\n",
        "print('反向传播之后 conv1.bias的梯度')\n",
        "print(net.conv1.bias.grad)"
      ],
      "execution_count": 39,
      "outputs": [
        {
          "output_type": "stream",
          "text": [
            "反向传播之前 conv1.bias的梯度\n",
            "None\n",
            "反向传播之后 conv1.bias的梯度\n",
            "tensor([ 0.0448, -0.1094, -0.0264,  0.0420,  0.0564,  0.0838])\n"
          ],
          "name": "stdout"
        }
      ]
    },
    {
      "cell_type": "markdown",
      "metadata": {
        "id": "ZSciQPl8S6_V",
        "colab_type": "text"
      },
      "source": [
        "## 优化器"
      ]
    },
    {
      "cell_type": "markdown",
      "metadata": {
        "id": "viVhJAMGTIZj",
        "colab_type": "text"
      },
      "source": [
        "在反向传播计算完所有参数的梯度后，还需要使用优化方法来更新网络的权重和参数，例如随机梯度下降法(SGD)的更新策略如下："
      ]
    },
    {
      "cell_type": "markdown",
      "metadata": {
        "id": "4_bXHGZZTO1Q",
        "colab_type": "text"
      },
      "source": [
        "weight = weight - learning_rate * gradient"
      ]
    },
    {
      "cell_type": "markdown",
      "metadata": {
        "id": "lkw0Z_AiTyae",
        "colab_type": "text"
      },
      "source": [
        "**手动实现如下**"
      ]
    },
    {
      "cell_type": "markdown",
      "metadata": {
        "id": "8stHZQ1dUDKc",
        "colab_type": "text"
      },
      "source": [
        "\n",
        "\n",
        "```\n",
        "learning_rate = 0.1\n",
        "\n",
        "for f in net.parameters():  \n",
        "    f.data.sub_(f.grad.data * learning_rate)\n",
        "```\n",
        "\n"
      ]
    },
    {
      "cell_type": "code",
      "metadata": {
        "id": "5lr8k4NQT5rt",
        "colab_type": "code",
        "colab": {}
      },
      "source": [
        "import torch.optim as optim\n",
        "# 新建一个优化器，设置优化器类型和学习率\n",
        "op = optim.SGD(net.parameters(), lr = 0.1)\n",
        "\n",
        "\n",
        "# 首先清零梯度\n",
        "op.zero_grad()\n",
        "\n",
        "# 前向传播,计算损失\n",
        "output = net(input)\n",
        "loss = criterion(output, target)\n",
        "\n",
        "# 反向传播\n",
        "loss.backward()\n",
        "\n",
        "# 参数调整\n",
        "op.step()"
      ],
      "execution_count": 0,
      "outputs": []
    },
    {
      "cell_type": "markdown",
      "metadata": {
        "id": "rO23ulanYMhW",
        "colab_type": "text"
      },
      "source": [
        "##  数据加载与预处理\n",
        "\n",
        "\n",
        "在深度学习中数据加载及预处理是非常复杂繁琐的，但PyTorch提供了一些可极大简化和加快处理流程的工具。同时，对于常用的数据集，PyTorch也提供了封装好的接口供用户快速调用，这些数据集主要保存在torchvision中。\n",
        "torchvision实现了常用的图像数据加载功能，例如Imagenet、CIFAR10、MNIST等，以及常用的数据转换操作，这极大地方便了数据加载，并且代码具有可重用性。"
      ]
    },
    {
      "cell_type": "markdown",
      "metadata": {
        "id": "uC30PgfRZkU9",
        "colab_type": "text"
      },
      "source": [
        "## 小试牛刀：CIFAR-10分类"
      ]
    },
    {
      "cell_type": "code",
      "metadata": {
        "id": "m-wiJ_QwZobt",
        "colab_type": "code",
        "colab": {}
      },
      "source": [
        "import torchvision as tv\n",
        "import torchvision.transforms as transforms\n",
        "from torchvision.transforms import ToPILImage\n",
        "show = ToPILImage() # 可以把Tensor转成Image，方便可视化"
      ],
      "execution_count": 0,
      "outputs": []
    },
    {
      "cell_type": "code",
      "metadata": {
        "id": "U5QtY3ljb1MJ",
        "colab_type": "code",
        "colab": {
          "base_uri": "https://localhost:8080/",
          "height": 53
        },
        "outputId": "ab94a1a0-5ef7-4e2e-d07b-e0e7f7781fc7"
      },
      "source": [
        "# 第一次运行程序torchvision会自动下载CIFAR-10数据集，\n",
        "# 大约100M，需花费一定的时间，\n",
        "# 如果已经下载有CIFAR-10，可通过root参数指定\n",
        "\n",
        "# 定义对数据的预处理\n",
        "transform = transforms.Compose([\n",
        "        transforms.ToTensor(), # 转为Tensor\n",
        "        transforms.Normalize((0.5, 0.5, 0.5), (0.5, 0.5, 0.5)), # 归一化\n",
        "                             ])\n",
        "\n",
        "# 训练集\n",
        "trainset = tv.datasets.CIFAR10(\n",
        "                    root='/home/cy/tmp/data/', \n",
        "                    train=True, \n",
        "                    download=True,\n",
        "                    transform=transform)\n",
        "\n",
        "trainloader = t.utils.data.DataLoader(\n",
        "                    trainset, \n",
        "                    batch_size=4,\n",
        "                    shuffle=True, \n",
        "                    num_workers=2)\n",
        "\n",
        "# 测试集\n",
        "testset = tv.datasets.CIFAR10(\n",
        "                    '/home/cy/tmp/data/',\n",
        "                    train=False, \n",
        "                    download=True, \n",
        "                    transform=transform)\n",
        "\n",
        "testloader = t.utils.data.DataLoader(\n",
        "                    testset,\n",
        "                    batch_size=4, \n",
        "                    shuffle=False,\n",
        "                    num_workers=2)\n",
        "\n",
        "classes = ('plane', 'car', 'bird', 'cat',\n",
        "           'deer', 'dog', 'frog', 'horse', 'ship', 'truck')"
      ],
      "execution_count": 42,
      "outputs": [
        {
          "output_type": "stream",
          "text": [
            "\r0it [00:00, ?it/s]"
          ],
          "name": "stderr"
        },
        {
          "output_type": "stream",
          "text": [
            "Downloading https://www.cs.toronto.edu/~kriz/cifar-10-python.tar.gz to /home/cy/tmp/data/cifar-10-python.tar.gz\n"
          ],
          "name": "stdout"
        },
        {
          "output_type": "stream",
          "text": [
            "100%|█████████▉| 170459136/170498071 [00:14<00:00, 14320972.23it/s]"
          ],
          "name": "stderr"
        },
        {
          "output_type": "stream",
          "text": [
            "Files already downloaded and verified\n"
          ],
          "name": "stdout"
        }
      ]
    },
    {
      "cell_type": "code",
      "metadata": {
        "id": "Y52AOzJYf4qA",
        "colab_type": "code",
        "colab": {
          "base_uri": "https://localhost:8080/",
          "height": 135
        },
        "outputId": "0345efb6-b312-4929-bb40-4753ecc2bf2e"
      },
      "source": [
        "(data, label) = trainset[100]\n",
        "print(classes[label])\n",
        "\n",
        "# (data + 1) / 2是为了还原被归一化的数据\n",
        "show((data + 1) / 2).resize((100, 100))"
      ],
      "execution_count": 43,
      "outputs": [
        {
          "output_type": "stream",
          "text": [
            "ship\n"
          ],
          "name": "stdout"
        },
        {
          "output_type": "execute_result",
          "data": {
            "image/png": "[encoded data removed]",
            "text/plain": [
              "<PIL.Image.Image image mode=RGB size=100x100 at 0x7FA0E8783F28>"
            ]
          },
          "metadata": {
            "tags": []
          },
          "execution_count": 43
        }
      ]
    },
    {
      "cell_type": "code",
      "metadata": {
        "id": "2w42GpDS3sAF",
        "colab_type": "code",
        "colab": {
          "base_uri": "https://localhost:8080/",
          "height": 135
        },
        "outputId": "b017d14a-4255-419d-a094-0979cc144ac3"
      },
      "source": [
        "dataiter = iter(trainloader)\n",
        "# trainloader中batchsize为4，迭代器一次读4张图\n",
        "images, labels = dataiter.next()\n",
        "print(' '.join('%11s'%classes[labels[j]] for j in range(4)))\n",
        "show(tv.utils.make_grid((images+1)/2)).resize((400,100))"
      ],
      "execution_count": 44,
      "outputs": [
        {
          "output_type": "stream",
          "text": [
            "       bird         cat         car         cat\n"
          ],
          "name": "stdout"
        },
        {
          "output_type": "execute_result",
          "data": {
            "image/png": "[encoded data removed]",
            "text/plain": [
              "<PIL.Image.Image image mode=RGB size=400x100 at 0x7FA0E74B0908>"
            ]
          },
          "metadata": {
            "tags": []
          },
          "execution_count": 44
        }
      ]
    },
    {
      "cell_type": "markdown",
      "metadata": {
        "id": "rnmDYZGh4kB6",
        "colab_type": "text"
      },
      "source": [
        "## 定义网络\n",
        "\n",
        "拷贝上面的LeNet网络，修改self.conv1第一个参数为3通道，因CIFAR-10是3通道彩图"
      ]
    },
    {
      "cell_type": "code",
      "metadata": {
        "id": "VT1NhD1I4Tbz",
        "colab_type": "code",
        "colab": {}
      },
      "source": [
        "class LeNet(nn.Module):\n",
        "  def __init__(self):\n",
        "    super(LeNet, self).__init__()\n",
        "    self.conv1 = nn.Conv2d(3, 6, 5)\n",
        "    self.conv2 = nn.Conv2d(6, 16, 5)\n",
        "    self.fc1 = nn.Linear(16*5*5, 120)\n",
        "    self.fc2 = nn.Linear(120, 84)\n",
        "    self.fc3 = nn.Linear(84, 10)\n",
        "  \n",
        "  def forward(self, x):\n",
        "    x = F.max_pool2d(F.relu(self.conv1(x)), (2, 2))\n",
        "    x = F.max_pool2d(F.relu(self.conv2(x)), 2)\n",
        "    x = x.view(x.size()[0], -1)\n",
        "    x = F.relu(self.fc1(x))\n",
        "    x = F.relu(self.fc2(x))\n",
        "    x = self.fc3(x)\n",
        "    \n",
        "    return x\n",
        "    "
      ],
      "execution_count": 0,
      "outputs": []
    },
    {
      "cell_type": "code",
      "metadata": {
        "id": "q7-g11Io6p2w",
        "colab_type": "code",
        "colab": {
          "base_uri": "https://localhost:8080/",
          "height": 143
        },
        "outputId": "e90e1521-b3e4-4c54-c582-e521834bdeb7"
      },
      "source": [
        "net = LeNet()\n",
        "print(net)"
      ],
      "execution_count": 46,
      "outputs": [
        {
          "output_type": "stream",
          "text": [
            "LeNet(\n",
            "  (conv1): Conv2d(3, 6, kernel_size=(5, 5), stride=(1, 1))\n",
            "  (conv2): Conv2d(6, 16, kernel_size=(5, 5), stride=(1, 1))\n",
            "  (fc1): Linear(in_features=400, out_features=120, bias=True)\n",
            "  (fc2): Linear(in_features=120, out_features=84, bias=True)\n",
            "  (fc3): Linear(in_features=84, out_features=10, bias=True)\n",
            ")\n"
          ],
          "name": "stdout"
        }
      ]
    },
    {
      "cell_type": "markdown",
      "metadata": {
        "id": "0wHFeKLA61R1",
        "colab_type": "text"
      },
      "source": [
        "## 定义损失函数和优化器"
      ]
    },
    {
      "cell_type": "code",
      "metadata": {
        "id": "X9vvj7Ca6zSj",
        "colab_type": "code",
        "colab": {}
      },
      "source": [
        "from torch import optim\n",
        "criterion = nn.CrossEntropyLoss()\n",
        "opti = optim.SGD(net.parameters(), lr=0.001, momentum=0.9)"
      ],
      "execution_count": 0,
      "outputs": []
    },
    {
      "cell_type": "markdown",
      "metadata": {
        "id": "oNtcwaYX7gqN",
        "colab_type": "text"
      },
      "source": [
        "## 训练网络\n",
        "所有网络的训练流程都类似的，不断地执行如下流程：\n",
        "\n",
        "*   输入数据\n",
        "*   前向传播+反向传播\n",
        "*   更新参数\n"
      ]
    },
    {
      "cell_type": "code",
      "metadata": {
        "id": "5pE0O94o7fOh",
        "colab_type": "code",
        "colab": {
          "base_uri": "https://localhost:8080/",
          "height": 251
        },
        "outputId": "6d0148df-4a52-4e0b-ebfc-e59e3ca153a0"
      },
      "source": [
        "t.set_num_threads(8)\n",
        "for epoch in range(2):\n",
        "  \n",
        "  running_loss = 0.0\n",
        "  \n",
        "  for i, data in enumerate(trainloader, 0):\n",
        "    \n",
        "    input, label = data\n",
        "\n",
        "    # 梯度清零\n",
        "    opti.zero_grad()\n",
        "    \n",
        "    # 输入数据\n",
        "    output = net(input)\n",
        "    # 前向传播\n",
        "    loss = criterion(output, label)\n",
        "    # 反向传播\n",
        "    loss.backward()\n",
        "    \n",
        "    # 更新参数\n",
        "    opti.step()\n",
        "    \n",
        "    # 打印log参数\n",
        "    # loss 是一个scalar，需用使用loss.item()来获取值，不能是用loss[0]\n",
        "    running_loss += loss.item()\n",
        "    if i % 2000 == 1999:# 每2000个batch打印一下训练状态\n",
        "        print('[%d, %5d] loss: %.3f' \\\n",
        "                  % (epoch+1, i+1, running_loss / 2000))\n",
        "        running_loss = 0.0\n",
        "    \n",
        "\n",
        "print('Finished Training')    \n",
        "    \n"
      ],
      "execution_count": 48,
      "outputs": [
        {
          "output_type": "stream",
          "text": [
            "[1,  2000] loss: 2.178\n",
            "[1,  4000] loss: 1.837\n",
            "[1,  6000] loss: 1.691\n",
            "[1,  8000] loss: 1.570\n",
            "[1, 10000] loss: 1.513\n",
            "[1, 12000] loss: 1.449\n",
            "[2,  2000] loss: 1.394\n",
            "[2,  4000] loss: 1.375\n",
            "[2,  6000] loss: 1.336\n",
            "[2,  8000] loss: 1.301\n",
            "[2, 10000] loss: 1.296\n",
            "[2, 12000] loss: 1.275\n",
            "Finished Training\n"
          ],
          "name": "stdout"
        }
      ]
    },
    {
      "cell_type": "markdown",
      "metadata": {
        "id": "YEzGRZ0mBVJO",
        "colab_type": "text"
      },
      "source": [
        "此处训练了2个epoch（遍历完一遍数据集称为一个epoch），来看看网络有没有效果。将测试图片输入到网络中，计算它的label，然后与实际的label进行比较。"
      ]
    },
    {
      "cell_type": "code",
      "metadata": {
        "id": "A1bnWKRiBxGi",
        "colab_type": "code",
        "colab": {
          "base_uri": "https://localhost:8080/",
          "height": 135
        },
        "outputId": "3e75d047-b935-43df-b912-f549cc228242"
      },
      "source": [
        "dataiter = iter(testloader)\n",
        "images, labels = dataiter.next() # 一个batch返回4张图片\n",
        "print('实际的label: ', ' '.join(\\\n",
        "            '%08s'%classes[labels[j]] for j in range(4)))\n",
        "show(tv.utils.make_grid(images / 2 - 0.5)).resize((400,100))"
      ],
      "execution_count": 49,
      "outputs": [
        {
          "output_type": "stream",
          "text": [
            "实际的label:       cat     ship     ship    plane\n"
          ],
          "name": "stdout"
        },
        {
          "output_type": "execute_result",
          "data": {
            "image/png": "[encoded data removed]",
            "text/plain": [
              "<PIL.Image.Image image mode=RGB size=400x100 at 0x7FA0E74B0940>"
            ]
          },
          "metadata": {
            "tags": []
          },
          "execution_count": 49
        }
      ]
    },
    {
      "cell_type": "code",
      "metadata": {
        "id": "08fGnBfwD4EY",
        "colab_type": "code",
        "colab": {}
      },
      "source": [
        "correct = 0 # 预测正确的图片数\n",
        "total = 0 # "
      ],
      "execution_count": 0,
      "outputs": []
    },
    {
      "cell_type": "code",
      "metadata": {
        "id": "aqBaRvMCEExC",
        "colab_type": "code",
        "colab": {
          "base_uri": "https://localhost:8080/",
          "height": 35
        },
        "outputId": "1f2504fb-7f4c-4068-e485-f92d5c7bbfa0"
      },
      "source": [
        "# 计算图片在每个类别上的分数\n",
        "outputs = net(images)\n",
        "# 得分最高得那个类\n",
        "_, predicted = t.max(outputs.data, 1)\n",
        "\n",
        "print('预测结果: ', ' '.join('%5s'\\\n",
        "            % classes[predicted[j]] for j in range(4)))"
      ],
      "execution_count": 58,
      "outputs": [
        {
          "output_type": "stream",
          "text": [
            "预测结果:    cat   car  ship  ship\n"
          ],
          "name": "stdout"
        }
      ]
    },
    {
      "cell_type": "code",
      "metadata": {
        "id": "mgVs57EpEy5q",
        "colab_type": "code",
        "colab": {
          "base_uri": "https://localhost:8080/",
          "height": 35
        },
        "outputId": "4763060a-4af0-4e01-a1ea-5c1452ae7233"
      },
      "source": [
        "# 在GPU训练\n",
        "device = t.device(\"cuda:0\" if t.cuda.is_available() else \"cpu\")\n",
        "\n",
        "net.to(device)\n",
        "images = images.to(device)\n",
        "labels = labels.to(device)\n",
        "output = net(images)\n",
        "loss= criterion(output,labels)\n",
        "\n",
        "loss\n",
        "\n",
        "# 如果发现在GPU上并没有比CPU提速很多，实际上是因为网络比较小，GPU没有完全发挥自己的真正实力。"
      ],
      "execution_count": 59,
      "outputs": [
        {
          "output_type": "execute_result",
          "data": {
            "text/plain": [
              "tensor(1.2888, device='cuda:0', grad_fn=<NllLossBackward>)"
            ]
          },
          "metadata": {
            "tags": []
          },
          "execution_count": 59
        }
      ]
    },
    {
      "cell_type": "markdown",
      "metadata": {
        "id": "LwyYI8m7Fp6P",
        "colab_type": "text"
      },
      "source": [
        "对PyTorch的基础介绍至此结束。总结一下，本节主要包含一下内容。\n",
        "\n",
        "\n",
        "1.   Tensor：类似与numpy的array的数据结构，与Numpy的接口类似，可以方便地互相转换。\n",
        "2.   autograd：为tensor提供自动求导功能\n",
        "3.   nn：为神经网络设计的接口，提供了很多有用的功能（神经网络层，损失函数，优化器）\n",
        "4.   神经网络的训练：以CIFAR-10分类为例演示了神经网络的训练流程，包括数据加载,网络搭建，训练，以及测试。\n"
      ]
    }
  ]
}