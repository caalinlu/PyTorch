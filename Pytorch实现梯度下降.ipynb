{
  "nbformat": 4,
  "nbformat_minor": 0,
  "metadata": {
    "colab": {
      "name": "Pytorch实现梯度下降.ipynb",
      "version": "0.3.2",
      "provenance": [],
      "collapsed_sections": [],
      "include_colab_link": true
    },
    "kernelspec": {
      "name": "python3",
      "display_name": "Python 3"
    }
  },
  "cells": [
    {
      "cell_type": "markdown",
      "metadata": {
        "id": "view-in-github",
        "colab_type": "text"
      },
      "source": [
        "<a href=\"https://colab.research.google.com/github/caalinlu/PyTorch/blob/master/Pytorch%E5%AE%9E%E7%8E%B0%E6%A2%AF%E5%BA%A6%E4%B8%8B%E9%99%8D.ipynb\" target=\"_parent\"><img src=\"https://colab.research.google.com/assets/colab-badge.svg\" alt=\"Open In Colab\"/></a>"
      ]
    },
    {
      "cell_type": "code",
      "metadata": {
        "id": "iV4pAaQvDAc7",
        "colab_type": "code",
        "colab": {
          "base_uri": "https://localhost:8080/",
          "height": 281
        },
        "outputId": "c10d3aa7-ec50-4c51-c0c3-7ab1c11e2fd0"
      },
      "source": [
        "import torch\n",
        "\n",
        "# 声明初始值\n",
        "x = torch.Tensor([0])\n",
        "x.requires_grad_(True)\n",
        "\n",
        "# 自己随便定义一个函数，假装是loss函数\n",
        "y = x ** 2 + 2 * x + 1\n",
        "\n",
        "# 定义学习率\n",
        "learning_rate = torch.Tensor([0.1])\n",
        "\n",
        "# 定义迭代次数\n",
        "epoches = 15 \n",
        "\n",
        "\n",
        "for epoche in range(epoches):\n",
        "    # 前向传播算loss\n",
        "    y = x ** 2 + 2 * x + 1\n",
        "    # 反向传播求梯度\n",
        "    y.backward()\n",
        "    print('x=', x.data, 'y=', y.data)\n",
        "\n",
        "    x.data = x.data - learning_rate * x.grad.data\n",
        "    # 注意：在PyTorch 中梯度如果不清零就会积累（（因为PyTorch是基于动态图的， 每迭代一次就会留下计算缓存，到下一次循环时需要手动清除缓存））\n",
        "    x.grad.data.zero_()\n"
      ],
      "execution_count": 2,
      "outputs": [
        {
          "output_type": "stream",
          "text": [
            "x= tensor([0.]) y= tensor([1.])\n",
            "x= tensor([-0.2000]) y= tensor([0.6400])\n",
            "x= tensor([-0.3600]) y= tensor([0.4096])\n",
            "x= tensor([-0.4880]) y= tensor([0.2621])\n",
            "x= tensor([-0.5904]) y= tensor([0.1678])\n",
            "x= tensor([-0.6723]) y= tensor([0.1074])\n",
            "x= tensor([-0.7379]) y= tensor([0.0687])\n",
            "x= tensor([-0.7903]) y= tensor([0.0440])\n",
            "x= tensor([-0.8322]) y= tensor([0.0281])\n",
            "x= tensor([-0.8658]) y= tensor([0.0180])\n",
            "x= tensor([-0.8926]) y= tensor([0.0115])\n",
            "x= tensor([-0.9141]) y= tensor([0.0074])\n",
            "x= tensor([-0.9313]) y= tensor([0.0047])\n",
            "x= tensor([-0.9450]) y= tensor([0.0030])\n",
            "x= tensor([-0.9560]) y= tensor([0.0019])\n"
          ],
          "name": "stdout"
        }
      ]
    }
  ]
}