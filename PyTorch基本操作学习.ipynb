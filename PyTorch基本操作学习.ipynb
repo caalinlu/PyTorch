{
  "nbformat": 4,
  "nbformat_minor": 0,
  "metadata": {
    "colab": {
      "name": "Untitled",
      "version": "0.3.2",
      "provenance": []
    },
    "kernelspec": {
      "name": "python3",
      "display_name": "Python 3"
    }
  },
  "cells": [
    {
      "cell_type": "code",
      "metadata": {
        "id": "OXp6aGVp1A77",
        "colab_type": "code",
        "colab": {
          "base_uri": "https://localhost:8080/",
          "height": 215
        },
        "outputId": "1811bdff-2a6f-4b18-d52a-479685becfdb"
      },
      "source": [
        "!pip3 install http://download.pytorch.org/whl/cu80/torch-0.3.1-cp36-cp36m-linux_x86_64.whl "
      ],
      "execution_count": 1,
      "outputs": [
        {
          "output_type": "stream",
          "text": [
            "Collecting torch==0.3.1 from http://download.pytorch.org/whl/cu80/torch-0.3.1-cp36-cp36m-linux_x86_64.whl\n",
            "\u001b[?25l  Downloading http://download.pytorch.org/whl/cu80/torch-0.3.1-cp36-cp36m-linux_x86_64.whl (496.4MB)\n",
            "\u001b[K     |████████████████████████████████| 496.4MB 1.1MB/s \n",
            "\u001b[?25hRequirement already satisfied: numpy in /usr/local/lib/python3.6/dist-packages (from torch==0.3.1) (1.16.3)\n",
            "Requirement already satisfied: pyyaml in /usr/local/lib/python3.6/dist-packages (from torch==0.3.1) (3.13)\n",
            "\u001b[31mERROR: fastai 1.0.52 has requirement torch>=1.0.0, but you'll have torch 0.3.1 which is incompatible.\u001b[0m\n",
            "Installing collected packages: torch\n",
            "  Found existing installation: torch 1.1.0\n",
            "    Uninstalling torch-1.1.0:\n",
            "      Successfully uninstalled torch-1.1.0\n",
            "Successfully installed torch-0.3.1\n"
          ],
          "name": "stdout"
        }
      ]
    },
    {
      "cell_type": "code",
      "metadata": {
        "id": "WTyJf6sr2DeD",
        "colab_type": "code",
        "colab": {}
      },
      "source": [
        "from __future__ import print_function\n",
        "import torch\n",
        "import numpy as np"
      ],
      "execution_count": 0,
      "outputs": []
    },
    {
      "cell_type": "code",
      "metadata": {
        "id": "S2XWAjt45e-y",
        "colab_type": "code",
        "colab": {
          "base_uri": "https://localhost:8080/",
          "height": 107
        },
        "outputId": "b808318d-5962-4293-8e69-55d93bf2a0ff"
      },
      "source": [
        "# 创建操作\n",
        "torch.eye(3)"
      ],
      "execution_count": 22,
      "outputs": [
        {
          "output_type": "execute_result",
          "data": {
            "text/plain": [
              "\n",
              " 1  0  0\n",
              " 0  1  0\n",
              " 0  0  1\n",
              "[torch.FloatTensor of size 3x3]"
            ]
          },
          "metadata": {
            "tags": []
          },
          "execution_count": 22
        }
      ]
    },
    {
      "cell_type": "code",
      "metadata": {
        "id": "3Kjf4XdF6DDs",
        "colab_type": "code",
        "colab": {
          "base_uri": "https://localhost:8080/",
          "height": 215
        },
        "outputId": "6e9ae9e0-66b9-4f66-ba03-3f54897ff865"
      },
      "source": [
        "# numpy桥\n",
        "# torch.from_numpy(ndarray) to Tensor\n",
        "# a = np.array([1,2,3])创建的是一个列向量\n",
        "a = np.array([1,2,3])\n",
        "t = torch.from_numpy(a)\n",
        "print(t)\n",
        "# 可以对Tensor里的值进行修改\n",
        "t[1] = -1\n",
        "t"
      ],
      "execution_count": 29,
      "outputs": [
        {
          "output_type": "stream",
          "text": [
            "\n",
            " 1\n",
            " 2\n",
            " 3\n",
            "[torch.LongTensor of size 3]\n",
            "\n"
          ],
          "name": "stdout"
        },
        {
          "output_type": "execute_result",
          "data": {
            "text/plain": [
              "\n",
              " 1\n",
              "-1\n",
              " 3\n",
              "[torch.LongTensor of size 3]"
            ]
          },
          "metadata": {
            "tags": []
          },
          "execution_count": 29
        }
      ]
    },
    {
      "cell_type": "code",
      "metadata": {
        "id": "AKAr5UiV65IK",
        "colab_type": "code",
        "colab": {
          "base_uri": "https://localhost:8080/",
          "height": 305
        },
        "outputId": "faa077cf-9bcd-48c9-d8ae-57791396aa5d"
      },
      "source": [
        "# linspace 返回一个一维张量，包含在区间start和end上均匀间隔的steps个点。\n",
        "# 输出1维张量的长度为steps\n",
        "# torch.linspace(start, end, steps=100, out=None) → Tensor\n",
        "t1 = torch.linspace(3,10,steps=5)\n",
        "print(t1)\n",
        "t2 = torch.linspace(-10, 10, steps=5)\n",
        "print(t2)"
      ],
      "execution_count": 32,
      "outputs": [
        {
          "output_type": "stream",
          "text": [
            "\n",
            "  3.0000\n",
            "  4.7500\n",
            "  6.5000\n",
            "  8.2500\n",
            " 10.0000\n",
            "[torch.FloatTensor of size 5]\n",
            "\n",
            "\n",
            "-10\n",
            " -5\n",
            "  0\n",
            "  5\n",
            " 10\n",
            "[torch.FloatTensor of size 5]\n",
            "\n"
          ],
          "name": "stdout"
        }
      ]
    },
    {
      "cell_type": "code",
      "metadata": {
        "id": "TWCI67SM9K39",
        "colab_type": "code",
        "colab": {
          "base_uri": "https://localhost:8080/",
          "height": 143
        },
        "outputId": "085a9b1a-48e2-4b02-a399-7a9197a8bf79"
      },
      "source": [
        "# torch.logspace\n",
        "# torch.logspace(start, end, steps=100, out=None) → Tensor\n",
        "\n",
        "# 返回一个1维张量，包含在区间 10start 和 10end上以对数刻度均匀间隔的steps个点。\n",
        "# 输出1维张量的长度为steps\n",
        "torch.logspace(start=-10, end=10, steps=5)"
      ],
      "execution_count": 33,
      "outputs": [
        {
          "output_type": "execute_result",
          "data": {
            "text/plain": [
              "\n",
              " 1.0000e-10\n",
              " 1.0000e-05\n",
              " 1.0000e+00\n",
              " 1.0000e+05\n",
              " 1.0000e+10\n",
              "[torch.FloatTensor of size 5]"
            ]
          },
          "metadata": {
            "tags": []
          },
          "execution_count": 33
        }
      ]
    },
    {
      "cell_type": "code",
      "metadata": {
        "id": "7OBMc-KJ-ROB",
        "colab_type": "code",
        "colab": {
          "base_uri": "https://localhost:8080/",
          "height": 233
        },
        "outputId": "85c6381b-495c-4dbb-a9bb-eb922897ae23"
      },
      "source": [
        "# torch.ones\n",
        "# torch.ones(*sizes, out=None) → Tensor\n",
        "# 返回一个全为1 的张量，形状由可变参数sizes定义。\n",
        "print(torch.ones(2, 3))\n",
        "print(torch.ones(4, 5))"
      ],
      "execution_count": 36,
      "outputs": [
        {
          "output_type": "stream",
          "text": [
            "\n",
            " 1  1  1\n",
            " 1  1  1\n",
            "[torch.FloatTensor of size 2x3]\n",
            "\n",
            "\n",
            " 1  1  1  1  1\n",
            " 1  1  1  1  1\n",
            " 1  1  1  1  1\n",
            " 1  1  1  1  1\n",
            "[torch.FloatTensor of size 4x5]\n",
            "\n"
          ],
          "name": "stdout"
        }
      ]
    },
    {
      "cell_type": "code",
      "metadata": {
        "id": "k-182B_s-qhv",
        "colab_type": "code",
        "colab": {
          "base_uri": "https://localhost:8080/",
          "height": 125
        },
        "outputId": "d103d6b5-d70e-4e97-95cc-db488b306032"
      },
      "source": [
        "# torch.rand\n",
        "# torch.rand(*sizes, out=None) → Tensor\n",
        "# 返回一个张量，包含了从区间[0,1)的均匀分布中抽取的一组随机数，形状由可变参数sizes 定义。\n",
        "torch.rand(4)"
      ],
      "execution_count": 37,
      "outputs": [
        {
          "output_type": "execute_result",
          "data": {
            "text/plain": [
              "\n",
              " 0.5114\n",
              " 0.0515\n",
              " 0.7181\n",
              " 0.6720\n",
              "[torch.FloatTensor of size 4]"
            ]
          },
          "metadata": {
            "tags": []
          },
          "execution_count": 37
        }
      ]
    },
    {
      "cell_type": "code",
      "metadata": {
        "id": "IVlK2kVy-6zl",
        "colab_type": "code",
        "colab": {
          "base_uri": "https://localhost:8080/",
          "height": 125
        },
        "outputId": "64df0c75-ffa5-4c47-85f0-81c73bf7596f"
      },
      "source": [
        "# torch.randperm\n",
        "# torch.randperm(n, out=None) → LongTensor\n",
        "# 给定参数n，返回一个从0 到n -1 的随机整数排列。\n",
        "torch.randperm(4)"
      ],
      "execution_count": 38,
      "outputs": [
        {
          "output_type": "execute_result",
          "data": {
            "text/plain": [
              "\n",
              " 2\n",
              " 0\n",
              " 1\n",
              " 3\n",
              "[torch.LongTensor of size 4]"
            ]
          },
          "metadata": {
            "tags": []
          },
          "execution_count": 38
        }
      ]
    },
    {
      "cell_type": "code",
      "metadata": {
        "id": "1ihopSHq_Nw5",
        "colab_type": "code",
        "colab": {
          "base_uri": "https://localhost:8080/",
          "height": 107
        },
        "outputId": "3204da98-539a-40a1-9958-2847ee83eb17"
      },
      "source": [
        "# torch.arange\n",
        "# torch.arange(start, end, step=1, out=None) → Tensor\n",
        "# 返回一个1维张量，长度为 floor((end−start)/step)。\n",
        "# 包含从start到end，以step为步长的一组序列值(默认步长为1)。\n",
        "torch.arange(1, 2.5, 0.5)"
      ],
      "execution_count": 39,
      "outputs": [
        {
          "output_type": "execute_result",
          "data": {
            "text/plain": [
              "\n",
              " 1.0000\n",
              " 1.5000\n",
              " 2.0000\n",
              "[torch.FloatTensor of size 3]"
            ]
          },
          "metadata": {
            "tags": []
          },
          "execution_count": 39
        }
      ]
    },
    {
      "cell_type": "code",
      "metadata": {
        "id": "DL9XQCLn_poo",
        "colab_type": "code",
        "colab": {
          "base_uri": "https://localhost:8080/",
          "height": 181
        },
        "outputId": "db252d24-0ece-478a-a4da-36b0653d47aa"
      },
      "source": [
        "# torch.range\n",
        "# torch.range(start, end, step=1, out=None) → Tensor\n",
        "# 返回一个1维张量，有 floor((end−start)/step)+1 个元素。\n",
        "# 包含在半开区间[start, end）从start开始，以step为步长的一组值。 \n",
        "# step 是两个值之间的间隔，即 xi+1=xi+step\n",
        "torch.range(1, 2.5, 0.5)"
      ],
      "execution_count": 40,
      "outputs": [
        {
          "output_type": "stream",
          "text": [
            "/usr/local/lib/python3.6/dist-packages/ipykernel_launcher.py:1: UserWarning: torch.range is deprecated in favor of torch.arange and will be removed in 0.3. Note that arange generates values in [start; end), not [start; end].\n",
            "  \"\"\"Entry point for launching an IPython kernel.\n"
          ],
          "name": "stderr"
        },
        {
          "output_type": "execute_result",
          "data": {
            "text/plain": [
              "\n",
              " 1.0000\n",
              " 1.5000\n",
              " 2.0000\n",
              " 2.5000\n",
              "[torch.FloatTensor of size 4]"
            ]
          },
          "metadata": {
            "tags": []
          },
          "execution_count": 40
        }
      ]
    },
    {
      "cell_type": "code",
      "metadata": {
        "id": "CWBm1sZMAHhL",
        "colab_type": "code",
        "colab": {
          "base_uri": "https://localhost:8080/",
          "height": 89
        },
        "outputId": "4e2c6bed-77e3-4ab0-adf5-0acf264a8f52"
      },
      "source": [
        "# torch.zeros\n",
        "# torch.zeros(*sizes, out=None) → Tensor\n",
        "# 返回一个全为标量 0 的张量，形状由可变参数sizes 定义。\n",
        "torch.zeros(2, 3)"
      ],
      "execution_count": 41,
      "outputs": [
        {
          "output_type": "execute_result",
          "data": {
            "text/plain": [
              "\n",
              " 0  0  0\n",
              " 0  0  0\n",
              "[torch.FloatTensor of size 2x3]"
            ]
          },
          "metadata": {
            "tags": []
          },
          "execution_count": 41
        }
      ]
    },
    {
      "cell_type": "code",
      "metadata": {
        "id": "2lxjwMAjAdE3",
        "colab_type": "code",
        "colab": {
          "base_uri": "https://localhost:8080/",
          "height": 251
        },
        "outputId": "95eaa67f-4a61-491a-f4c8-5e8dec812815"
      },
      "source": [
        "# torch.cat\n",
        "# torch.cat(inputs, dimension=0) → Tensor\n",
        "# 在给定维度上对输入的张量序列seq 进行连接操作。\n",
        "# torch.cat()可以看做 torch.split() 和 torch.chunk()的反操作。 \n",
        "# cat() 函数可以通过下面例子更好的理解。\n",
        "x = torch.randn(2, 3)\n",
        "print(x)\n",
        "torch.cat((x,x,x),0)"
      ],
      "execution_count": 43,
      "outputs": [
        {
          "output_type": "stream",
          "text": [
            "\n",
            "-1.1143  0.8746  0.1902\n",
            " 1.6457  0.0248  0.6502\n",
            "[torch.FloatTensor of size 2x3]\n",
            "\n"
          ],
          "name": "stdout"
        },
        {
          "output_type": "execute_result",
          "data": {
            "text/plain": [
              "\n",
              "-1.1143  0.8746  0.1902\n",
              " 1.6457  0.0248  0.6502\n",
              "-1.1143  0.8746  0.1902\n",
              " 1.6457  0.0248  0.6502\n",
              "-1.1143  0.8746  0.1902\n",
              " 1.6457  0.0248  0.6502\n",
              "[torch.FloatTensor of size 6x3]"
            ]
          },
          "metadata": {
            "tags": []
          },
          "execution_count": 43
        }
      ]
    },
    {
      "cell_type": "code",
      "metadata": {
        "id": "ZyYrdOOwA-n5",
        "colab_type": "code",
        "colab": {
          "base_uri": "https://localhost:8080/",
          "height": 341
        },
        "outputId": "551cd167-c562-4434-b4be-16d30a0f61c7"
      },
      "source": [
        "# torch.chunk()\n",
        "# torch.chunk(tensor, chunks, dim=0)\n",
        "# 在给定维度(轴)上将输入张量进行分块儿。\n",
        "x = torch.randn(4, 4)\n",
        "print(x)\n",
        "torch.chunk(x, 2, 1)"
      ],
      "execution_count": 50,
      "outputs": [
        {
          "output_type": "stream",
          "text": [
            "\n",
            "-0.1549  0.7474 -0.5081  0.0491\n",
            "-2.2548 -0.0858  1.9929  0.3959\n",
            " 0.2811 -0.0013 -2.0355 -0.0710\n",
            "-1.1796 -1.8578  0.7200 -0.2931\n",
            "[torch.FloatTensor of size 4x4]\n",
            "\n"
          ],
          "name": "stdout"
        },
        {
          "output_type": "execute_result",
          "data": {
            "text/plain": [
              "(\n",
              " -0.1549  0.7474\n",
              " -2.2548 -0.0858\n",
              "  0.2811 -0.0013\n",
              " -1.1796 -1.8578\n",
              " [torch.FloatTensor of size 4x2], \n",
              " -0.5081  0.0491\n",
              "  1.9929  0.3959\n",
              " -2.0355 -0.0710\n",
              "  0.7200 -0.2931\n",
              " [torch.FloatTensor of size 4x2])"
            ]
          },
          "metadata": {
            "tags": []
          },
          "execution_count": 50
        }
      ]
    },
    {
      "cell_type": "code",
      "metadata": {
        "id": "wkXX80-yBrGC",
        "colab_type": "code",
        "colab": {
          "base_uri": "https://localhost:8080/",
          "height": 179
        },
        "outputId": "8638af47-00e6-4611-8460-f3d6406de7bd"
      },
      "source": [
        "# torch.gather\n",
        "# torch.gather(input, dim, index, out=None) → Tensor\n",
        "# input (Tensor) – 源张量\n",
        "# dim (int) – 索引的轴\n",
        "# index (LongTensor) – 聚合元素的下标,(该下标是指该行的下标)\n",
        "# out (Tensor, optional) – 目标张量\n",
        "# 沿给定轴dim，将输入索引张量index指定位置的值进行聚合。\n",
        "\n",
        "t = torch.Tensor([[1,2], [3,4]])\n",
        "print(t)\n",
        "torch.gather(t, 1, torch.LongTensor([[0,1],[0,0]]))\n"
      ],
      "execution_count": 55,
      "outputs": [
        {
          "output_type": "stream",
          "text": [
            "\n",
            " 1  2\n",
            " 3  4\n",
            "[torch.FloatTensor of size 2x2]\n",
            "\n"
          ],
          "name": "stdout"
        },
        {
          "output_type": "execute_result",
          "data": {
            "text/plain": [
              "\n",
              " 1  2\n",
              " 3  3\n",
              "[torch.FloatTensor of size 2x2]"
            ]
          },
          "metadata": {
            "tags": []
          },
          "execution_count": 55
        }
      ]
    },
    {
      "cell_type": "code",
      "metadata": {
        "id": "k1g4Rl7tCqR3",
        "colab_type": "code",
        "colab": {
          "base_uri": "https://localhost:8080/",
          "height": 197
        },
        "outputId": "5fe1e747-42dd-4fda-e6c8-6ea3712c8323"
      },
      "source": [
        "# torch.index_select\n",
        "# torch.index_select(input, dim, index, out=None) → Tensor\n",
        "# input (Tensor) – 输入张量\n",
        "# dim (int) – 索引的轴\n",
        "# index (LongTensor) – 包含索引下标的一维张量\n",
        "# out (Tensor, optional) – 目标张量\n",
        "# 沿着指定维度对输入进行切片，取index中指定的相应项(index为一个LongTensor)，\n",
        "# 然后返回到一个新的张量， 返回的张量与原始张量_Tensor_有相同的维度(在指定轴上)。\n",
        "\n",
        "x = torch.randn(3, 4)\n",
        "print(x)\n",
        "indices = torch.LongTensor([0, 2])\n",
        "torch.index_select(x, 0, indices)"
      ],
      "execution_count": 56,
      "outputs": [
        {
          "output_type": "stream",
          "text": [
            "\n",
            "-0.5903  0.0198 -0.0822  0.3069\n",
            " 0.0051 -1.1515  1.0362 -0.2584\n",
            "-0.6203 -0.4253 -0.8271 -1.3311\n",
            "[torch.FloatTensor of size 3x4]\n",
            "\n"
          ],
          "name": "stdout"
        },
        {
          "output_type": "execute_result",
          "data": {
            "text/plain": [
              "\n",
              "-0.5903  0.0198 -0.0822  0.3069\n",
              "-0.6203 -0.4253 -0.8271 -1.3311\n",
              "[torch.FloatTensor of size 2x4]"
            ]
          },
          "metadata": {
            "tags": []
          },
          "execution_count": 56
        }
      ]
    },
    {
      "cell_type": "code",
      "metadata": {
        "id": "x0M2yb5HDl3b",
        "colab_type": "code",
        "colab": {
          "base_uri": "https://localhost:8080/",
          "height": 451
        },
        "outputId": "b033fed8-d324-4ed6-e829-78ee120aa3eb"
      },
      "source": [
        "# torch.masked_select\n",
        "# torch.masked_select(input, mask, out=None) → Tensor\n",
        "# nput (Tensor) – 输入张量\n",
        "# mask (ByteTensor) – 掩码张量，包含了二元索引值\n",
        "# out (Tensor, optional) – 目标张量\n",
        "# 根据掩码张量mask中的二元值，取输入张量中的指定项( mask为一个 ByteTensor)，\n",
        "# 将取值返回到一个新的1D张量。\n",
        "# 张量 mask须跟input张量有相同数量的元素数目，但形状或维度不需要相同。 \n",
        "# 注意： 返回的张量不与原始张量共享内存空间。\n",
        "x = torch.randn(3, 4)\n",
        "print(x)\n",
        "mask = torch.ByteTensor(4,3).random_(2) \n",
        "print(mask)\n",
        "torch.masked_select(x, mask)"
      ],
      "execution_count": 80,
      "outputs": [
        {
          "output_type": "stream",
          "text": [
            "\n",
            "-2.0781 -0.4287 -1.1379 -0.2934\n",
            " 0.2760 -0.7009  0.4003  0.7462\n",
            " 0.4123 -0.9943  1.2578 -0.2210\n",
            "[torch.FloatTensor of size 3x4]\n",
            "\n",
            "\n",
            " 1  1  0\n",
            " 0  1  1\n",
            " 0  0  1\n",
            " 1  0  0\n",
            "[torch.ByteTensor of size 4x3]\n",
            "\n"
          ],
          "name": "stdout"
        },
        {
          "output_type": "stream",
          "text": [
            "/usr/local/lib/python3.6/dist-packages/ipykernel_launcher.py:5: UserWarning: self and mask not broadcastable, but have the same number of elements.  Falling back to deprecated pointwise behavior.\n",
            "  \"\"\"\n"
          ],
          "name": "stderr"
        },
        {
          "output_type": "execute_result",
          "data": {
            "text/plain": [
              "\n",
              "-2.0781\n",
              "-0.4287\n",
              " 0.2760\n",
              "-0.7009\n",
              " 0.4123\n",
              "-0.9943\n",
              "[torch.FloatTensor of size 6]"
            ]
          },
          "metadata": {
            "tags": []
          },
          "execution_count": 80
        }
      ]
    }
  ]
}