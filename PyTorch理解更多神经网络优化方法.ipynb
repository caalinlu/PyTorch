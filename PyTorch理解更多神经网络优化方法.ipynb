{
  "nbformat": 4,
  "nbformat_minor": 0,
  "metadata": {
    "colab": {
      "name": "PyTorch理解更多神经网络优化方法.ipynb",
      "version": "0.3.2",
      "provenance": [],
      "include_colab_link": true
    },
    "kernelspec": {
      "name": "python3",
      "display_name": "Python 3"
    }
  },
  "cells": [
    {
      "cell_type": "markdown",
      "metadata": {
        "id": "view-in-github",
        "colab_type": "text"
      },
      "source": [
        "<a href=\"https://colab.research.google.com/github/caalinlu/PyTorch/blob/master/PyTorch%E7%90%86%E8%A7%A3%E6%9B%B4%E5%A4%9A%E7%A5%9E%E7%BB%8F%E7%BD%91%E7%BB%9C%E4%BC%98%E5%8C%96%E6%96%B9%E6%B3%95.ipynb\" target=\"_parent\"><img src=\"https://colab.research.google.com/assets/colab-badge.svg\" alt=\"Open In Colab\"/></a>"
      ]
    },
    {
      "cell_type": "markdown",
      "metadata": {
        "id": "v8hJKSiLpl7m",
        "colab_type": "text"
      },
      "source": [
        "# PyTorch中使用torch.optim优化神经网络以及优化器的选择\n",
        "\n",
        "神经网络优化器，主要是为了优化我们的神经网络，使他在我们的训练过程中快起来，节省社交网络训练的时间。在pytorch中提供了torch.optim方法优化我们的神经网络，torch.optim是实现各种优化算法的包。最长有的方法都已经支持，接口很常规，所以以后也可以更容易的集成更加复杂的方法。"
      ]
    },
    {
      "cell_type": "markdown",
      "metadata": {
        "id": "H_Sri9fyqTyf",
        "colab_type": "text"
      },
      "source": [
        "## 如何使用optimizer\n",
        "要使用torch.optim，您必须构造一个optimizer对象。这个对象能保存当前的参数状态并且基于计算梯度更新参数。"
      ]
    },
    {
      "cell_type": "markdown",
      "metadata": {
        "id": "QswvR5suqalF",
        "colab_type": "text"
      },
      "source": [
        "## 构建一个优化器\n",
        "要构造一个Optimizer，你必须给它一个包含参数（必须都是Variable对象）进行优化。然后，您可以指定optimizer的参 数选项，比如学习率，权重衰减等。具体参考torch.optim中文文档。"
      ]
    },
    {
      "cell_type": "code",
      "metadata": {
        "id": "6bqnWAXFqiTR",
        "colab_type": "code",
        "colab": {}
      },
      "source": [
        "optimizer = optim.SGD(model.parameters(), lr=0.01, momentum=0.9)\n",
        "optimizer = optim.Adam([var1, var2], lr = 0.0001)"
      ],
      "execution_count": 0,
      "outputs": []
    },
    {
      "cell_type": "markdown",
      "metadata": {
        "id": "oR9LLuaz5nkD",
        "colab_type": "text"
      },
      "source": [
        "#  优化方法总结"
      ]
    },
    {
      "cell_type": "markdown",
      "metadata": {
        "id": "tI0NzOMW6DZ2",
        "colab_type": "text"
      },
      "source": [
        "## 1.SGD\n",
        "### 1.1 Batch Gradient Descent\n",
        "\n",
        "\n",
        "在每一轮的训练过程中，Batch Gradient Descent算法用整个训练集的数据计算cost fuction的梯度，并用该梯度对模型参数进行更新：\n",
        " \n",
        "\n",
        "\n",
        "> *w = w - learning_rate × ▽w*\n",
        "\n",
        "\n",
        "\n",
        "\n",
        "优点：\n",
        "\n",
        "\n",
        "*   cost fuction若为凸函数，能够保证收敛到全局最优值；若为非凸函数，能够收敛到局部最优值\n",
        "\n",
        "\n",
        "缺点：\n",
        "\n",
        "\n",
        "*   由于每轮迭代都需要在整个数据集上计算一次，所以批量梯度下降可能非常慢\n",
        "*   训练数较多时，需要较大内存\n",
        "*   批量梯度下降不允许在线更新模型，例如新增实例。\n",
        "\n",
        "\n",
        "\n"
      ]
    },
    {
      "cell_type": "markdown",
      "metadata": {
        "id": "fn9MB50r7MBC",
        "colab_type": "text"
      },
      "source": [
        "### 1.2 Stochastic Gradient Descent \n",
        "\n",
        "\n",
        "和批梯度下降算法相反，Stochastic gradient descent 算法每随机读入一个数据，便立刻计算cost fuction的梯度来更新参数：\n",
        "\n",
        "> *w = w - learning_rate × ▽w*\n",
        "\n",
        "\n",
        "优点：\n",
        "\n",
        "\n",
        "\n",
        "*   算法收敛速度快(在Batch Gradient Descent算法中, 每轮会计算很多相似样本的梯度, 这部分是冗余的)\n",
        "*   可以在线更新\n",
        "*   有几率跳出一个比较差的局部最优而收敛到一个更好的局部最优甚至是全局最优。\n",
        "\n",
        "缺点：\n",
        "*   容易收敛到局部最优，并且容易被困在鞍点。\n",
        "\n",
        "\n"
      ]
    },
    {
      "cell_type": "markdown",
      "metadata": {
        "id": "9WRGfWxD8CYt",
        "colab_type": "text"
      },
      "source": [
        "### 1.3  Mini-batch Gradient Descent"
      ]
    },
    {
      "cell_type": "markdown",
      "metadata": {
        "id": "NjunYmGI8V0N",
        "colab_type": "text"
      },
      "source": [
        "mini-batch Gradient Descent的方法是在上述两个方法中取折衷, 每次从所有训练数据中取一个子集（mini-batch） 用于计算梯度：\n",
        "\n",
        "\n",
        "> *w = w - learning_rate × ▽w*\n",
        "\n",
        "Mini-batch Gradient Descent在每轮迭代中仅仅计算一个mini-batch的梯度，不仅计算效率高，而且收敛较为稳定。该方法是目前深度学训练中的主流方法。\n",
        "\n",
        "\n",
        "上述三个方法面临的主要挑战如下：\n",
        "\n",
        "\n",
        "*   选择适当的学习率$ \\alpha$较为困难。太小的学习率会导致收敛缓慢，而学习速度太快会造成较大波动，妨碍收敛\n",
        "*   目前可采用的方法是在训练过程中调整学习率大小，例如模拟退火算法：预先定义一个迭代次数m，每执行完m次训练边减小学习率，或者当当cost function的值低于一个阈值时减小学习率。然而迭代次数和阈值必须事先定义，因此无法适应数据集的特点。\n",
        "*   近期的研究表明，深层神经网络之所以比较难训练，并不是因为容易进入local minimum。相反，由于网络结构非常复杂，在绝大多数清凉下即使是local minimum 也可以得到非常好的结果。而之所以难训练是因为学习过程容易陷入到马鞍面中，即在坡面上，一部分点是上升的，一部分点是下降的。而这种情况比较容易出现在平坦区域，在这种区域中，所有方向的梯度值都几乎是0。\n",
        "\n",
        "\n",
        "\n",
        "\n"
      ]
    },
    {
      "cell_type": "code",
      "metadata": {
        "id": "bfcMBfbUwxPp",
        "colab_type": "code",
        "colab": {}
      },
      "source": [
        "import numpy as np\n",
        "import torch\n",
        "from torch.autograd import Variable\n",
        "import matplotlib.pyplot as plt\n",
        " \n",
        "# Ada\n",
        "J = lambda w1, w2: w1 ** 2 + 10 * w2 ** 2\n",
        "J_prime1 = lambda w1: 2 * w1\n",
        "J_prime2 = lambda w2: 20 * w2\n",
        "\n",
        "w1 = 1\n",
        "w2 = -1\n",
        "epoch = 200\n",
        "lr = 0.1\n",
        "y = []\n",
        "Loss = []\n",
        "W1 = []\n",
        "W2 = []\n",
        "beta = 0.9\n",
        "\n",
        "for i in range(epoch):\n",
        "  w1 = w1 - lr * J_prime1(w1)\n",
        "  w2 = w2 - lr * J_prime2(w2)\n",
        "  Loss.append(J(w1, w2))\n",
        "  "
      ],
      "execution_count": 0,
      "outputs": []
    },
    {
      "cell_type": "code",
      "metadata": {
        "id": "dXYwdMtIw-DX",
        "colab_type": "code",
        "colab": {
          "base_uri": "https://localhost:8080/",
          "height": 302
        },
        "outputId": "6d9cbd01-c652-4bb7-a5f0-632893b4b28f"
      },
      "source": [
        "plt.plot(Loss)\n",
        "plt.figure()"
      ],
      "execution_count": 2,
      "outputs": [
        {
          "output_type": "execute_result",
          "data": {
            "text/plain": [
              "<Figure size 432x288 with 0 Axes>"
            ]
          },
          "metadata": {
            "tags": []
          },
          "execution_count": 2
        },
        {
          "output_type": "display_data",
          "data": {
            "image/png": "[encoded data removed]",
            "text/plain": [
              "<Figure size 432x288 with 1 Axes>"
            ]
          },
          "metadata": {
            "tags": []
          }
        },
        {
          "output_type": "display_data",
          "data": {
            "text/plain": [
              "<Figure size 432x288 with 0 Axes>"
            ]
          },
          "metadata": {
            "tags": []
          }
        }
      ]
    },
    {
      "cell_type": "markdown",
      "metadata": {
        "id": "SVZLjzav-4Yx",
        "colab_type": "text"
      },
      "source": [
        "## 2. Momentum\n",
        "SGD方法的一个缺点是其更新方向完全依赖于当前batch计算的梯度，因此十分不稳定。Momentum算法借用了物理中的动量概念，他模拟的是物体运动的惯性，即在更新的时候在一定程度上保留之前更新的方向，同时利用当前batch的梯度微调最终的更新方向。这样一来，可以在一定程度上增加稳定性，从而学习的跟快，而且对应于之前叙述的SGD可能会卡在鞍面的问题，Momentum则又能力去摆脱这个问题，其拥有一定摆脱局部最优的能力：\n",
        "\n",
        "常规SGD方法：\n",
        "> *w = w - learning_rate × ▽w* \n",
        "\n",
        "\n",
        "加入Momentum的方法：\n",
        "> *Vt = $ \\beta $ × Vt-1 + (1- $ \\beta $ ) dW*\n",
        "\n",
        "\n",
        "> *W = w - learning_rate ×  Vt*\n",
        "\n",
        "\n",
        "在上面的公式中Vt-1 是损失函是在前t-1轮迭代过程中累计的梯度动量，$ \\beta $是梯度累积的一个指数，这里我们一般设置值为0.9。所以Momentum优化器的主要思想就是利用了类似于移动指数加权平均方法来对网络的参数进行平滑处理，让梯度的摆动幅度变得更小。\n",
        "dW是损失函数反向春波时候所求得的梯度，下面两个公式网络权重向量和偏置向量的更新公式，$ \\alpha $是网络的学习率。当我们使用Momentum优化算法的时候，可以解决mini-batch SGD优化算法更新幅度摆动大的问题，同时可以使得网络的收敛速度更快。\n"
      ]
    },
    {
      "cell_type": "markdown",
      "metadata": {
        "id": "ADxBMRlz-kzW",
        "colab_type": "text"
      },
      "source": [
        "[SGD with Momentum 详细解释](https://zhuanlan.zhihu.com/p/34240246)"
      ]
    },
    {
      "cell_type": "code",
      "metadata": {
        "id": "clVmt5IfvtVR",
        "colab_type": "code",
        "colab": {}
      },
      "source": [
        "import numpy as np\n",
        "import torch\n",
        "from torch.autograd import Variable\n",
        "import matplotlib.pyplot as plt\n",
        " \n",
        "# Ada\n",
        "J = lambda w1, w2: w1 ** 2 + 10 * w2 ** 2\n",
        "J_prime1 = lambda w1: 2 * w1\n",
        "J_prime2 = lambda w2: 20 * w2\n",
        "w1_Momentum = 1\n",
        "w2_Momentum = -1\n",
        "v = 0\n",
        "s = 0\n",
        "Loss_Momentum = []\n",
        "beta1 = 0.9\n",
        "\n",
        "for i in range(epoch):\n",
        "  v = beta1 * v + (1-beta) * J_prime1(w1_Momentum)\n",
        "  s = beta1 * s + (1-beta) * J_prime2(w2_Momentum)\n",
        "  w1_Momentum = w1_Momentum - lr * v\n",
        "  w2_Momentum = w2_Momentum - lr * s\n",
        "  Loss_Momentum.append(J(w1_Momentum, w2_Momentum))\n",
        "  "
      ],
      "execution_count": 0,
      "outputs": []
    },
    {
      "cell_type": "code",
      "metadata": {
        "id": "GHlUI3l8wQ6r",
        "colab_type": "code",
        "colab": {
          "base_uri": "https://localhost:8080/",
          "height": 302
        },
        "outputId": "0df69939-248b-4570-e07f-a84818518b95"
      },
      "source": [
        "plt.plot(Loss_Momentum)\n",
        "plt.figure()"
      ],
      "execution_count": 4,
      "outputs": [
        {
          "output_type": "execute_result",
          "data": {
            "text/plain": [
              "<Figure size 432x288 with 0 Axes>"
            ]
          },
          "metadata": {
            "tags": []
          },
          "execution_count": 4
        },
        {
          "output_type": "display_data",
          "data": {
            "image/png": "[encoded data removed]",
            "text/plain": [
              "<Figure size 432x288 with 1 Axes>"
            ]
          },
          "metadata": {
            "tags": []
          }
        },
        {
          "output_type": "display_data",
          "data": {
            "text/plain": [
              "<Figure size 432x288 with 0 Axes>"
            ]
          },
          "metadata": {
            "tags": []
          }
        }
      ]
    },
    {
      "cell_type": "markdown",
      "metadata": {
        "id": "24u_JYpefdw1",
        "colab_type": "text"
      },
      "source": [
        "## 3. Adagrad\n",
        "上述方法中，对于每一个参数 的训练都使用了相同的学习率α。Adagrad算法能够在训练中自动的对learning rate进行调整，对于出现频率较低参数采用较大的α更新；相反，对于出现频率较高的参数采用较小的α更新。因此，Adagrad非常适合处理稀疏数据。\n",
        "\n",
        "因此，SGD中参数更新的过程可写为：\n",
        "\n",
        "\n",
        ">*$s_{dw} =   dW^{2}$*\n",
        "\n",
        ">*$s_{db} =   dW^{2}$*\n",
        "\n",
        "\n",
        "Adagrad在每轮训练中对每个参数的学习率进行更新，参数更新公式如下：\n",
        "\n",
        "\n",
        ">*$W = W - \\alpha \\frac{dW}{\\sqrt{s_{dw}} + \\delta}$*\n",
        "\n",
        ">*$W = W - \\alpha \\frac{dW}{\\sqrt{s_{db}} + \\delta}$*\n",
        "\n",
        "\n",
        "[Adagrad详细解释](https://zhuanlan.zhihu.com/p/29920135)"
      ]
    },
    {
      "cell_type": "code",
      "metadata": {
        "id": "Rfgkf5Zfs6Vy",
        "colab_type": "code",
        "colab": {}
      },
      "source": [
        "# Ada自适应梯度调节法\n",
        "w1_Adagrad = 1\n",
        "w2_Adagrad = -1\n",
        "Loss_Adagrad = []\n",
        "s1 = s2 = 0\n",
        "\n",
        "\n",
        "for i in range(epoch):\n",
        "  s1 += J_prime1(w1_Adagrad) ** 2\n",
        "  s2 += J_prime2(w2_Adagrad) ** 2\n",
        "  w1_Adagrad = w1_Adagrad - lr * (J_prime1(w1_Adagrad) / (np.sqrt(s1) + 0.00000001))\n",
        "  w2_Adagrad = w2_Adagrad - lr * (J_prime2(w2_Adagrad) / (np.sqrt(s2) + 0.00000001))\n",
        "  Loss_Adagrad.append(J(w1_Adagrad, w2_Adagrad))\n",
        "  \n"
      ],
      "execution_count": 0,
      "outputs": []
    },
    {
      "cell_type": "markdown",
      "metadata": {
        "id": "hc3G2mX2vdDl",
        "colab_type": "text"
      },
      "source": [
        ""
      ]
    },
    {
      "cell_type": "code",
      "metadata": {
        "id": "w15NQfsEvTtb",
        "colab_type": "code",
        "colab": {
          "base_uri": "https://localhost:8080/",
          "height": 302
        },
        "outputId": "7152783f-45fd-4d11-b6d5-531be848ef9b"
      },
      "source": [
        "plt.plot(Loss_Adagrad)\n",
        "plt.figure()"
      ],
      "execution_count": 6,
      "outputs": [
        {
          "output_type": "execute_result",
          "data": {
            "text/plain": [
              "<Figure size 432x288 with 0 Axes>"
            ]
          },
          "metadata": {
            "tags": []
          },
          "execution_count": 6
        },
        {
          "output_type": "display_data",
          "data": {
            "image/png": "[encoded data removed]",
            "text/plain": [
              "<Figure size 432x288 with 1 Axes>"
            ]
          },
          "metadata": {
            "tags": []
          }
        },
        {
          "output_type": "display_data",
          "data": {
            "text/plain": [
              "<Figure size 432x288 with 0 Axes>"
            ]
          },
          "metadata": {
            "tags": []
          }
        }
      ]
    },
    {
      "cell_type": "markdown",
      "metadata": {
        "id": "IYD5MCFQ-zJU",
        "colab_type": "text"
      },
      "source": [
        "## 4. RMSProp\n",
        "RMSProp算法的全称叫 Root Mean Square Prop，是Geoffrey E. Hinton在Coursera课程中提出的一种优化算法，在上面的Momentum优化算法中，虽然初步解决了优化中摆动幅度大的问题。所谓的摆动幅度就是在优化中经过更新之后参数的变化范围，但是其实学习率的问题还是没有解决，在优化时仍然使用的是同一个学习率。\n",
        "为了进一步优化损失函数在更新中存在摆动幅度过大的问题，并且进一步加快函数的收敛速度，RMSProp算法对权重 W 和偏置 b 的梯度使用了微分平方加权平均数。\n",
        "其中，假设在t轮迭代过程中，各个公式如下所示：\n",
        "\n",
        ">*$s_{dw} =   \\beta  s_{dw} + (1- \\beta) dW^{2}$\n",
        "\n",
        ">*$s_{db} =   \\beta  s_{dw} + (1- \\beta) dW^{2}$\n",
        "\n",
        ">*$W = W - \\alpha \\frac{dW}{\\sqrt{s_{dw}} + \\delta}$*\n",
        "\n",
        ">*$W = W - \\alpha \\frac{dW}{\\sqrt{s_{db}} + \\delta}$*\n",
        "\n",
        "算法的主要思想就用上面的公式表达完毕了。在上面的公式中$s_{db}$和$s_{dw}$分别是损失函数在前t-1轮迭代过程中类的梯度梯度动量，$\\beta$是梯度累积的一个指数。所不同的是，RMSProp算法对梯度计算了微分平方加权平均数。这种做法有理消除了摆动幅度大的方向，用来修正摆动幅度，是的各个维度的摆动幅度都比较小。另一方面也是的网络函数收敛更快。（比如当 dWdW 或者 dbdb 中有一个值比较大的时候，那么我们在更新权重或者偏置的时候除以它之前累积的梯度的平方根，这样就可以使得更新幅度变小）。为了防止分母为零，使用了一个很小的数值$\\delta$ 来进行平滑，一般取值为e−8。\n",
        "\n",
        "\n",
        "\n",
        "\n",
        "[RMSProp详细解释](https://zhuanlan.zhihu.com/p/34230849)"
      ]
    },
    {
      "cell_type": "code",
      "metadata": {
        "id": "tVEwUKV-x4N9",
        "colab_type": "code",
        "colab": {}
      },
      "source": [
        "beta2 = 0.5\n",
        "sw = 0\n",
        "sb = 0\n",
        "w1_RMSProp = 1\n",
        "w2_RMSProp = -1\n",
        "Loss_RMSProp = []\n",
        "\n",
        "for i in range(epoch):\n",
        "  sw = beta2 * sw + (1 - beta2) * (J_prime1(w1_RMSProp) ** 2)\n",
        "  sb = beta2 * sb + (1 - beta2) * (J_prime2(w2_RMSProp) ** 2)\n",
        "  w1_RMSProp = w1_RMSProp - lr * (J_prime1(w1_RMSProp) / (np.sqrt(sw) + 0.00000001))\n",
        "  w2_RMSProp = w2_RMSProp - lr * (J_prime2(w2_RMSProp) / (np.sqrt(sb) + 0.00000001))\n",
        "  Loss_RMSProp.append(J(w1_RMSProp, w2_RMSProp))\n",
        "                      "
      ],
      "execution_count": 0,
      "outputs": []
    },
    {
      "cell_type": "code",
      "metadata": {
        "id": "gj4cs4LK078j",
        "colab_type": "code",
        "colab": {
          "base_uri": "https://localhost:8080/",
          "height": 302
        },
        "outputId": "3ba9a7e9-bb38-470e-a71d-8e33b5de1a0e"
      },
      "source": [
        "plt.plot(Loss_RMSProp)\n",
        "plt.figure()"
      ],
      "execution_count": 13,
      "outputs": [
        {
          "output_type": "execute_result",
          "data": {
            "text/plain": [
              "<Figure size 432x288 with 0 Axes>"
            ]
          },
          "metadata": {
            "tags": []
          },
          "execution_count": 13
        },
        {
          "output_type": "display_data",
          "data": {
            "image/png": "[encoded data removed]",
            "text/plain": [
              "<Figure size 432x288 with 1 Axes>"
            ]
          },
          "metadata": {
            "tags": []
          }
        },
        {
          "output_type": "display_data",
          "data": {
            "text/plain": [
              "<Figure size 432x288 with 0 Axes>"
            ]
          },
          "metadata": {
            "tags": []
          }
        }
      ]
    },
    {
      "cell_type": "markdown",
      "metadata": {
        "id": "WP7-uPABCwWH",
        "colab_type": "text"
      },
      "source": [
        "## 5. Adam\n",
        "有了上面两种优化算法，一种可以使用类似于物理的动量来累积梯度，另一种可以使得收敛速度更快同时使得波动幅度更小。那么将两种算法结合起来所获得的表现一定会更好。Adam算法是将Momentum算法和RMSProp算法结合起来使用的一种算法，我们使用的参数基本和上面讲的一致，在训练的最开始我们需要初始化梯度的累积量和平方累积量。\n",
        ">>>>>>*$v_{dw} = 0$*  , *$v_{db} = 0$*\n",
        "\n",
        ">>>>>>*$v_{db} = 0$* , *$s_{db} = 0$*\n",
        "\n",
        "假设在训练的第t轮训练中，我们可以计算得到Monmentum和RMSProp的参数更新：\n",
        ">>>>>>$v_{dw} =   \\beta v_{dw} + (1- \\beta) dW$\n",
        "\n",
        ">>>>>>$v_{db} =   \\beta  v_{dw} + (1- \\beta) dW$\n",
        "\n",
        "\n",
        ">>>>>>$s_{dw} =   \\alpha  s_{dw} + (1- \\alpha) dW^{2}$\n",
        "\n",
        ">>>>>>$s_{db} =   \\alpha  s_{dw} + (1- \\alpha) db^{2}$\n",
        "\n",
        "\n",
        "由于移动指数平均在迭代的初期会导致和开始的值有较大的的差异，所有我们需要对上面求得的几个值做偏差修正。\n",
        "\n",
        "\n",
        "\n",
        ">>>>>>*$v_{dw}^{c} =  \\frac{v_{dw} }{1-\\beta}$*\n",
        "\n",
        ">>>>>>*$v_{db}^{c} =  \\frac{v_{db} }{1-\\beta}$*\n",
        "\n",
        ">>>>>>*$v_{dw}^{c} =  \\frac{v_{dw} }{1-\\alpha}$*\n",
        "\n",
        ">>>>>>*$s_{db}^{c} =  \\frac{s_{db} }{1-\\alpha}$*\n",
        "\n",
        "通过上面的公式，我们就可以求得在第 t 轮迭代过程中，参数梯度累积量的修正值，从而接下来就可以根据Momentum和RMSProp算法的结合来对权重和偏置进行更新。 \n",
        "\n",
        ">>>>>>*$W = W - lr \\frac{v_{dw}^{c}}{\\sqrt{s_{dw}^{c}} + \\delta}$*\n",
        "\n",
        ">>>>>>*$b = b- lr\\frac{v_{db}^{c}}{\\sqrt{s_{db}^{c}} + \\delta}$*\n",
        "\n",
        "\n",
        "上面的所有步骤就是Momentum算法和RMSProp算法结合起来从而形成Adam算法。在Adam算法中，参数$\\beta$所对应的就是Momentum算法中的$\\beta$值，一般取0.9，参数$\\alpha$所对应的就是RMSProp算法中的$\\beta$值，一般我们取0.999，而$\\delta$是一个平滑项，我们一般取值为10的-8次方，而学习率则需要我们在训练的时候微调。"
      ]
    },
    {
      "cell_type": "code",
      "metadata": {
        "id": "pCq-0oUn2QaS",
        "colab_type": "code",
        "colab": {}
      },
      "source": [
        "# Adam 是一个集成了多种优化器优势的方法，通过momentum解决了鞍点问题，通过ada解决了对瑞晓方向尺度矫正的问题，同时加入偏置，解决初始值过大的问题\n",
        "\n",
        "w1_adam = 1\n",
        "w2_adam = -1\n",
        "v1 = 0\n",
        "v2 = 0\n",
        "s1 = 0\n",
        "s2 = 0\n",
        "beta3 = 0.9\n",
        "beta4 = 0.999\n",
        "Loss_ADAM = []\n",
        "\n",
        "for i in range(epoch):\n",
        "  v1 = beta3 * v1 + (1 - beta3) * (J_prime1(w1_adam))\n",
        "  v2 = beta3 * v2 + (1 - beta3) * (J_prime1(w2_adam))\n",
        "  s1 = beta4 * s1 + (1 - beta4) * (J_prime1(w1_adam) ** 2)\n",
        "  s2 = beta4 * s2 + (1 - beta4) * (J_prime1(w2_adam) ** 2)\n",
        "  w1_adam = w1_adam - lr * (v1 / (np.sqrt(s1) + 0.00000001))\n",
        "  w2_adam = w1_adam - lr * (v2 / (np.sqrt(s2) + 0.00000001))\n",
        "  Loss_ADAM.append(J(w1_adam, w2_adam))\n",
        "\n"
      ],
      "execution_count": 0,
      "outputs": []
    },
    {
      "cell_type": "code",
      "metadata": {
        "id": "E31vz2n14_0A",
        "colab_type": "code",
        "colab": {
          "base_uri": "https://localhost:8080/",
          "height": 302
        },
        "outputId": "2dc3c8d2-5d34-4ee0-b164-c8c050ab1091"
      },
      "source": [
        "plt.plot(Loss_ADAM)\n",
        "plt.figure()"
      ],
      "execution_count": 19,
      "outputs": [
        {
          "output_type": "execute_result",
          "data": {
            "text/plain": [
              "<Figure size 432x288 with 0 Axes>"
            ]
          },
          "metadata": {
            "tags": []
          },
          "execution_count": 19
        },
        {
          "output_type": "display_data",
          "data": {
            "image/png": "[encoded data removed]",
            "text/plain": [
              "<Figure size 432x288 with 1 Axes>"
            ]
          },
          "metadata": {
            "tags": []
          }
        },
        {
          "output_type": "display_data",
          "data": {
            "text/plain": [
              "<Figure size 432x288 with 0 Axes>"
            ]
          },
          "metadata": {
            "tags": []
          }
        }
      ]
    },
    {
      "cell_type": "markdown",
      "metadata": {
        "id": "vB3KWrLr5SfN",
        "colab_type": "text"
      },
      "source": [
        "# PyTorch优化器选择"
      ]
    },
    {
      "cell_type": "code",
      "metadata": {
        "id": "MKGldF1x5Piv",
        "colab_type": "code",
        "colab": {}
      },
      "source": [
        "from torch.autograd import Variable\n",
        "import torch\n",
        "from torch import nn\n",
        "from torch import optim\n",
        "import numpy as np\n",
        "import matplotlib.pyplot as plt\n",
        "from sklearn.datasets import load_iris\n",
        "import torch.nn.functional as F\n",
        "\n",
        "iris = load_iris()\n",
        "iris_data = torch.from_numpy(iris.data) # 鸢尾花特征值(4个)\n",
        "iris_target = torch.from_numpy(iris.target) # 鸢尾花目标值(类别)\n",
        "\n",
        "# np.unique(iris.target)\n",
        "# 注意线性输入层的设计，当输入Tensor为样本数*特征数\n",
        "# Linear层的数self.l1 = nn.Linear(4, 10)的第一个参数是每个样本的大小\n",
        "# 最后Linear层的输出注意是类别数\n",
        "\n",
        "class LinearNet(nn.Module):\n",
        "  def __init__(self):\n",
        "    super(LinearNet, self).__init__()\n",
        "    self.l1 = nn.Linear(4, 10)\n",
        "    self.l2 = nn.Linear(10, 5)\n",
        "    self.l3 = nn.Linear(5, 3)\n",
        "\n",
        "\n",
        "  def forward(self, x):\n",
        "    x = self.l1(x)\n",
        "    x = F.relu(x)\n",
        "    x = self.l2(x)\n",
        "    x = F.relu(x)\n",
        "    y_pred = self.l3(x)\n",
        "    \n",
        "    return y_pred\n",
        "    \n",
        "model = LinearNet()\n",
        "\n",
        "criterion = nn.CrossEntropyLoss()\n",
        "\n",
        "# L2正则化的目的就是为了让权重衰减到更小的值，在一定程度上减少模型过拟合的问题，所以权重衰减weight_decay也叫L2正则化。\n",
        "optimizier = optim.Adam(model.parameters(), lr=0.05, betas=(0.9, 0.999), weight_decay=0.001)\n",
        "\n",
        "Loss = []\n",
        "\n",
        "for epoch in range(2000):\n",
        "  optimizier.zero_grad()\n",
        "  \n",
        "  y_pred = model(torch.FloatTensor(iris_data.float()))\n",
        "  loss = criterion(y_pred, iris_target)\n",
        "  \n",
        "  if epoch % 20 == 0:\n",
        "    print(\"epoch =\", epoch, \"loss =\", loss.data)\n",
        "    Loss.append(loss.data)\n",
        "  loss.backward()\n",
        "  optimizier.step()\n",
        "  \n",
        "  "
      ],
      "execution_count": 0,
      "outputs": []
    },
    {
      "cell_type": "code",
      "metadata": {
        "id": "-ThmoIFMJXMu",
        "colab_type": "code",
        "colab": {
          "base_uri": "https://localhost:8080/",
          "height": 302
        },
        "outputId": "e1fc6e2f-9ec8-46e3-ac79-0efc20177fab"
      },
      "source": [
        "plt.plot(Loss)\n",
        "plt.figure()"
      ],
      "execution_count": 61,
      "outputs": [
        {
          "output_type": "execute_result",
          "data": {
            "text/plain": [
              "<Figure size 432x288 with 0 Axes>"
            ]
          },
          "metadata": {
            "tags": []
          },
          "execution_count": 61
        },
        {
          "output_type": "display_data",
          "data": {
            "image/png": "[encoded data removed]",
            "text/plain": [
              "<Figure size 432x288 with 1 Axes>"
            ]
          },
          "metadata": {
            "tags": []
          }
        },
        {
          "output_type": "display_data",
          "data": {
            "text/plain": [
              "<Figure size 432x288 with 0 Axes>"
            ]
          },
          "metadata": {
            "tags": []
          }
        }
      ]
    },
    {
      "cell_type": "code",
      "metadata": {
        "id": "X7DA8vQd8G5c",
        "colab_type": "code",
        "colab": {
          "base_uri": "https://localhost:8080/",
          "height": 34
        },
        "outputId": "480d691c-3e49-47b8-da8f-efdac5920d26"
      },
      "source": [
        "# class torch.nn.Linear（in_features，out_features，bias = True ）[来源]\n",
        "# 对传入数据应用线性变换：y = A x+ b\n",
        "\n",
        "# 参数：\t\n",
        "# in_features - 每个输入样本的大小\n",
        "# out_features - 每个输出样本的大小\n",
        "# bias - 如果设置为False，则图层不会学习附加偏差。默认值：True\n",
        "\n",
        "m = nn.Linear(20, 30)\n",
        "input = torch.randn(128, 20)\n",
        "output = m(input)\n",
        "print(output.size())"
      ],
      "execution_count": 49,
      "outputs": [
        {
          "output_type": "stream",
          "text": [
            "torch.Size([128, 30])\n"
          ],
          "name": "stdout"
        }
      ]
    },
    {
      "cell_type": "code",
      "metadata": {
        "id": "t_E7airA8bJs",
        "colab_type": "code",
        "colab": {}
      },
      "source": [
        ""
      ],
      "execution_count": 0,
      "outputs": []
    }
  ]
}